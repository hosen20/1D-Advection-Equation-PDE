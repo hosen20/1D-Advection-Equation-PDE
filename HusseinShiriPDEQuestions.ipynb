{
  "cells": [
    {
      "cell_type": "markdown",
      "metadata": {
        "id": "eDz__IAtCJgz"
      },
      "source": [
        "**Quantum solution of the 1D Advection equation**\n",
        "\n",
        "Done by: Hussein Shiri"
      ]
    },
    {
      "cell_type": "code",
      "execution_count": 1,
      "metadata": {
        "id": "NuZlIt1EryFZ"
      },
      "outputs": [],
      "source": [
        "#!pip install pennylane"
      ]
    },
    {
      "cell_type": "markdown",
      "metadata": {
        "id": "VNcwThuqB4eN"
      },
      "source": [
        "### Discretization:\n",
        "The 1D pde Advection equation has the form:\n",
        "$\\frac{du}{dt} + c\\frac{du}{dx} = 0$.\n",
        "\n",
        "By discretizing this pde, we will get the form $Au^{n+1} = u^{n}$.\n",
        "\n",
        "Where $A$ is a tridiagonal matrix in which the diagonal and above and below the diagonal just directly are filled, so we have 3 filled lines in the matrix.\n",
        "\n",
        "In addition to that, $u^n$ is the initial vector and we need to find $u^{n+1}$."
      ]
    },
    {
      "cell_type": "markdown",
      "metadata": {
        "id": "oFTEnTkCErje"
      },
      "source": [
        "To discretize we will use the following:\n",
        "\n",
        "1. Second-order central difference in space: $c\\frac{du}{dx}|^{n+1}_i = c(\\frac{u_{i+1}^{n+1} - u_{i-1}^{n+1}}{2Δx}) $. It is called second order because the truncation error (difference between the exact and discrete pde) is proportional to $(Δx)^2$.\n",
        "\n",
        "2. First-order implicit time discretization: $\\frac{du}{dt}|_{t_{n}} = \\frac{u_{i}^{n+1} - u_{i}^{n}}{Δt} $. It is called first order because the truncation error is proportional to $Δt$."
      ]
    },
    {
      "cell_type": "markdown",
      "metadata": {
        "id": "k3I2Pa1oKP1W"
      },
      "source": [
        "After expanding we get the following equation: $-\\frac{C}{2} u_{i-1}^{n+1} + u_{i}^{n+1} + \\frac{C}{2} u_{i+1}^{n+1} = u_{i}^{n}$\n",
        "\n",
        "Where C = $c\\frac{Δt}{Δx}$.\n",
        "\n",
        "The $u^{n+1}$ terms with:\n",
        "1. $i$ are on the diagonal.\n",
        "2. $i+1$ directly above the diagonal.\n",
        "3. $i-1$ directly below the diagonal.\n",
        "\n",
        "Finally we get $A$:\n",
        "\n",
        "\\begin{pmatrix}\n",
        "1 & \\frac{C}{2} & 0 & \\dots & 0 & 0 \\\\\n",
        "-\\frac{C}{2} & 1 & \\frac{C}{2} & \\dots & 0 & 0 \\\\\n",
        "0 & -\\frac{C}{2} & 1 & \\dots & 0 & 0 \\\\\n",
        "\\vdots & \\vdots & \\vdots & \\ddots & \\vdots & \\vdots \\\\\n",
        "0 & 0 & 0 & \\dots & 1 & \\frac{C}{2} \\\\\n",
        "0 & 0 & 0 & \\dots & -\\frac{C}{2} & 1\n",
        "\\end{pmatrix}"
      ]
    },
    {
      "cell_type": "code",
      "execution_count": 2,
      "metadata": {
        "id": "U4bonk2fLyR8",
        "colab": {
          "base_uri": "https://localhost:8080/"
        },
        "outputId": "af97d2f9-5644-423f-9ca7-1693c8f0f76a"
      },
      "outputs": [
        {
          "output_type": "stream",
          "name": "stderr",
          "text": [
            "/usr/local/lib/python3.11/dist-packages/pennylane/capture/capture_operators.py:33: RuntimeWarning: PennyLane is not yet compatible with JAX versions > 0.4.28. You have version 0.5.2 installed. Please downgrade JAX to <=0.4.28 to avoid runtime errors.\n",
            "  warnings.warn(\n"
          ]
        }
      ],
      "source": [
        "import pennylane as qml\n",
        "from pennylane import numpy as np\n",
        "import matplotlib.pyplot as plt"
      ]
    },
    {
      "cell_type": "code",
      "execution_count": 3,
      "metadata": {
        "id": "eUNQB84HBB9L"
      },
      "outputs": [],
      "source": [
        "n = 16\n",
        "c = 1\n",
        "delta_t = 0.01\n",
        "delta_x = 0.1\n",
        "C = c*delta_t/delta_x\n",
        "A = np.zeros((n, n))\n",
        "\n",
        "np.fill_diagonal(A, 1.0)\n",
        "\n",
        "i = 0\n",
        "# A[i, i+1] = C/2\n",
        "for i in range(n - 1):\n",
        "  A[i, i + 1] = C / 2.0\n",
        "\n",
        "i = 1\n",
        "# A[i, i-1] = -C/2\n",
        "for i in range(1, n):\n",
        "  A[i, i - 1] = -C / 2.0"
      ]
    },
    {
      "cell_type": "code",
      "execution_count": 4,
      "metadata": {
        "colab": {
          "base_uri": "https://localhost:8080/"
        },
        "id": "uNAwLigENzrV",
        "outputId": "b77f821f-741e-4aea-b672-ba48e8d51dd7"
      },
      "outputs": [
        {
          "output_type": "stream",
          "name": "stdout",
          "text": [
            "   1.000    0.050    0.000    0.000    0.000    0.000    0.000    0.000    0.000    0.000    0.000    0.000    0.000    0.000    0.000    0.000 \n",
            "  -0.050    1.000    0.050    0.000    0.000    0.000    0.000    0.000    0.000    0.000    0.000    0.000    0.000    0.000    0.000    0.000 \n",
            "   0.000   -0.050    1.000    0.050    0.000    0.000    0.000    0.000    0.000    0.000    0.000    0.000    0.000    0.000    0.000    0.000 \n",
            "   0.000    0.000   -0.050    1.000    0.050    0.000    0.000    0.000    0.000    0.000    0.000    0.000    0.000    0.000    0.000    0.000 \n",
            "   0.000    0.000    0.000   -0.050    1.000    0.050    0.000    0.000    0.000    0.000    0.000    0.000    0.000    0.000    0.000    0.000 \n",
            "   0.000    0.000    0.000    0.000   -0.050    1.000    0.050    0.000    0.000    0.000    0.000    0.000    0.000    0.000    0.000    0.000 \n",
            "   0.000    0.000    0.000    0.000    0.000   -0.050    1.000    0.050    0.000    0.000    0.000    0.000    0.000    0.000    0.000    0.000 \n",
            "   0.000    0.000    0.000    0.000    0.000    0.000   -0.050    1.000    0.050    0.000    0.000    0.000    0.000    0.000    0.000    0.000 \n",
            "   0.000    0.000    0.000    0.000    0.000    0.000    0.000   -0.050    1.000    0.050    0.000    0.000    0.000    0.000    0.000    0.000 \n",
            "   0.000    0.000    0.000    0.000    0.000    0.000    0.000    0.000   -0.050    1.000    0.050    0.000    0.000    0.000    0.000    0.000 \n",
            "   0.000    0.000    0.000    0.000    0.000    0.000    0.000    0.000    0.000   -0.050    1.000    0.050    0.000    0.000    0.000    0.000 \n",
            "   0.000    0.000    0.000    0.000    0.000    0.000    0.000    0.000    0.000    0.000   -0.050    1.000    0.050    0.000    0.000    0.000 \n",
            "   0.000    0.000    0.000    0.000    0.000    0.000    0.000    0.000    0.000    0.000    0.000   -0.050    1.000    0.050    0.000    0.000 \n",
            "   0.000    0.000    0.000    0.000    0.000    0.000    0.000    0.000    0.000    0.000    0.000    0.000   -0.050    1.000    0.050    0.000 \n",
            "   0.000    0.000    0.000    0.000    0.000    0.000    0.000    0.000    0.000    0.000    0.000    0.000    0.000   -0.050    1.000    0.050 \n",
            "   0.000    0.000    0.000    0.000    0.000    0.000    0.000    0.000    0.000    0.000    0.000    0.000    0.000    0.000   -0.050    1.000 \n"
          ]
        }
      ],
      "source": [
        "def printA(a):\n",
        "    for row in a:\n",
        "        for col in row:\n",
        "            print(\"{:8.3f}\".format(col), end=\" \")\n",
        "        print(\"\")\n",
        "printA(A)"
      ]
    },
    {
      "cell_type": "markdown",
      "metadata": {
        "id": "sIQ45qohONdi"
      },
      "source": [
        "By using the above 16x16 matrix we need 4 qubits as $2^4 = 16$.\n",
        "\n",
        "The next thing we need to know is what the $u^{n+1}$ and $u^{n}$ vectors are."
      ]
    },
    {
      "cell_type": "markdown",
      "metadata": {
        "id": "TyblNymrQUv6"
      },
      "source": [
        "Let us start with $u_n$, using the Dirichlet boundary conditions imposed on the pde which leads to the values that the solution takes along the boundary of the domain being fixed.\n",
        "\n",
        "\\begin{pmatrix}\n",
        "u_1^n + \\frac{C}{2} u_0^{n+1} \\\\\n",
        "u_2^n \\\\\n",
        "u_3^n \\\\\n",
        "\\vdots \\\\\n",
        "u_{N-1}^n \\\\\n",
        "u_N^n - \\frac{C}{2} u_{N+1}^{n+1}\n",
        "\\end{pmatrix}\n",
        "\n",
        "we get the first and last values of this vector by substituting i by 1 and N:\n",
        "\n",
        "1. at i = 1: $u_1^{n+1} + \\frac{C}{2} u_2^{n+1} = u_1^n + \\frac{C}{2} u_0^{n+1}$\n",
        "\n",
        "2. at i = N: $-\\frac{C}{2} u_{N-1}^{n+1} + u_N^{n+1} = u_N^n - \\frac{C}{2} u_{N+1}^{n+1}$\n",
        "\n",
        "The vector $u^{n+1}$ is simply:\n",
        "\n",
        "\\begin{pmatrix}\n",
        "u_1^{n+1} \\\\\n",
        "u_2^{n+1} \\\\\n",
        "u_3^{n+1} \\\\\n",
        "\\vdots \\\\\n",
        "u_N^{n+1}\n",
        "\\end{pmatrix}"
      ]
    },
    {
      "cell_type": "markdown",
      "metadata": {
        "id": "xukAYuPOS6Wq"
      },
      "source": [
        "The $u^n$ vector is pre-given from previous initial steps or knowledge. We will generate a new one using the following way:\n",
        "\\begin{pmatrix}\n",
        "\\sin\\left(\\frac{\\pi x_1}{L}\\right) + \\frac{C}{2}U_{left}\\\\\n",
        "\\sin\\left(\\frac{\\pi x_2}{L}\\right) \\\\\n",
        "\\vdots \\\\\n",
        "\\sin\\left(\\frac{\\pi x_{N-1}}{L}\\right) \\\\\n",
        "\\sin\\left(\\frac{\\pi x_N}{L}\\right) - \\frac{C}{2}U_{right}\n",
        "\\end{pmatrix}\n",
        "The $\\sin()$ function is simple and smooth. The characteristic of being smooth is important for classical solvers that require differentiability.\n",
        "\n",
        "A function is considered \"smooth\" if it is not just differentiable once, but multiple times, and all these derivatives are themselves continuous."
      ]
    },
    {
      "cell_type": "code",
      "execution_count": 5,
      "metadata": {
        "colab": {
          "base_uri": "https://localhost:8080/"
        },
        "id": "EfEInGMgS3E1",
        "outputId": "48322e0b-0cc2-4cfb-e4e0-a9a99fda007d"
      },
      "outputs": [
        {
          "output_type": "stream",
          "name": "stdout",
          "text": [
            "[0.1284591  0.0784591  0.15643447 0.23344536 0.30901699 0.38268343\n",
            " 0.4539905  0.52249856 0.58778525 0.64944805 0.70710678 0.76040597\n",
            " 0.80901699 0.85264016 0.89100652 0.92387953]\n"
          ]
        }
      ],
      "source": [
        "#Implementing the U_n vector\n",
        "U_n = np.zeros(n) # Initialize as a 1D array\n",
        "U_left = 1\n",
        "U_right = 0\n",
        "L = 4\n",
        "\n",
        "U_n[0] = np.sin(np.pi * delta_x / L) + (C / 2) * U_left\n",
        "for i in range(1, n-1):\n",
        "    U_n[i] = np.sin(np.pi * i * delta_x / L)\n",
        "U_n[n-1] = np.sin(np.pi * (n-1) * delta_x / L) - (C / 2) * U_right # Corrected index to n-1 for the last element\n",
        "\n",
        "print(U_n) # Print the 1D array"
      ]
    },
    {
      "cell_type": "markdown",
      "metadata": {
        "id": "dAtSHpX5WPAs"
      },
      "source": [
        "### Solving using QLVS:\n",
        "The general steps are:\n",
        "\n",
        "1. Defining ansatz circuit.\n",
        "2. Defining cost function.\n",
        "3. Training using a classical optimizer to decrease the value of the cost."
      ]
    },
    {
      "cell_type": "code",
      "execution_count": null,
      "metadata": {
        "id": "V7jyPpkwi4Uc"
      },
      "outputs": [],
      "source": [
        "cost_history = []\n",
        "\n",
        "dev = qml.device(\"default.qubit\", wires=4)\n",
        "\n",
        "@qml.qnode(dev)\n",
        "def ansatz(weights):\n",
        "  qml.StronglyEntanglingLayers(weights, wires = range(4))\n",
        "  return qml.state()\n",
        "\n",
        "def cost(weights, u, mtrx):\n",
        "  predictions = ansatz(weights)\n",
        "\n",
        "  dot_product_result = mtrx @ np.asarray(predictions)\n",
        "\n",
        "  difference = dot_product_result - u\n",
        "\n",
        "  # Calculate the squared norm using sum of squared differences\n",
        "  to_return = qml.numpy.linalg.norm(difference)**2\n",
        "  return to_return\n",
        "\n",
        "optimizer = qml.AdamOptimizer(stepsize=0.1)\n",
        "epochs = 250\n",
        "\n",
        "weights_shape = qml.StronglyEntanglingLayers.shape(n_layers=10, n_wires=4)\n",
        "initial_weights = np.random.rand(*weights_shape)\n",
        "\n",
        "print(f\"Shape of initial_weights: {initial_weights.shape}, Dtype: {initial_weights.dtype}\")\n",
        "weights = qml.numpy.array(initial_weights, requires_grad=True)\n",
        "\n",
        "\n",
        "# Convert U_n and A to qml.numpy arrays before the optimization loop\n",
        "U_n = qml.numpy.array(U_n, dtype=float)\n",
        "A = qml.numpy.array(A, dtype=float)\n",
        "\n",
        "for epoch in range(epochs):\n",
        "    weights, current_cost = optimizer.step_and_cost(cost, weights, U_n, A)\n",
        "    weights = weights[0]\n",
        "    cost_history.append(current_cost)\n",
        "    print(f\"Epoch {epoch + 1}/{epochs}, Cost: {current_cost:.4f}\")"
      ]
    },
    {
      "cell_type": "code",
      "execution_count": 7,
      "metadata": {
        "colab": {
          "base_uri": "https://localhost:8080/",
          "height": 449
        },
        "id": "75ewvp-exPQQ",
        "outputId": "f14e6a65-fda0-43ce-f112-743cbac257f7"
      },
      "outputs": [
        {
          "output_type": "display_data",
          "data": {
            "text/plain": [
              "<Figure size 640x480 with 1 Axes>"
            ],
            "image/png": "[encoded data removed]"
          },
          "metadata": {}
        }
      ],
      "source": [
        "cost_values = [float(c) for c in cost_history]\n",
        "plt.plot(cost_values, \"g\")\n",
        "plt.ylabel(\"Cost function\")\n",
        "plt.xlabel(\"Optimization steps\")\n",
        "plt.show()"
      ]
    },
    {
      "cell_type": "markdown",
      "source": [
        "### Classical Solution"
      ],
      "metadata": {
        "id": "mhkGpb2-YYQW"
      }
    },
    {
      "cell_type": "markdown",
      "source": [
        "Using the classical solver is very important in order to compare the classical solution with the quantum one."
      ],
      "metadata": {
        "id": "QLk3-ud0eEef"
      }
    },
    {
      "cell_type": "code",
      "execution_count": 8,
      "metadata": {
        "colab": {
          "base_uri": "https://localhost:8080/"
        },
        "id": "XbTQcyeZfVHP",
        "outputId": "98149b3b-e37c-48f2-c46d-c974f5cd6db3"
      },
      "outputs": [
        {
          "output_type": "stream",
          "name": "stdout",
          "text": [
            "Vector at time n (u_n):\n",
            "[0.1284591  0.0784591  0.15643447 0.23344536 0.30901699 0.38268343\n",
            " 0.4539905  0.52249856 0.58778525 0.64944805 0.70710678 0.76040597\n",
            " 0.80901699 0.85264016 0.89100652 0.92387953]\n",
            "\n",
            "Sparse Matrix A (CSR format):\n",
            "<Compressed Sparse Row sparse matrix of dtype 'float64'\n",
            "\twith 46 stored elements and shape (16, 16)>\n",
            "  Coords\tValues\n",
            "  (0, 0)\t1.0\n",
            "  (0, 1)\t0.049999999999999996\n",
            "  (1, 0)\t-0.049999999999999996\n",
            "  (1, 1)\t1.0\n",
            "  (1, 2)\t0.049999999999999996\n",
            "  (2, 1)\t-0.049999999999999996\n",
            "  (2, 2)\t1.0\n",
            "  (2, 3)\t0.049999999999999996\n",
            "  (3, 2)\t-0.049999999999999996\n",
            "  (3, 3)\t1.0\n",
            "  (3, 4)\t0.049999999999999996\n",
            "  (4, 3)\t-0.049999999999999996\n",
            "  (4, 4)\t1.0\n",
            "  (4, 5)\t0.049999999999999996\n",
            "  (5, 4)\t-0.049999999999999996\n",
            "  (5, 5)\t1.0\n",
            "  (5, 6)\t0.049999999999999996\n",
            "  (6, 5)\t-0.049999999999999996\n",
            "  (6, 6)\t1.0\n",
            "  (6, 7)\t0.049999999999999996\n",
            "  (7, 6)\t-0.049999999999999996\n",
            "  (7, 7)\t1.0\n",
            "  (7, 8)\t0.049999999999999996\n",
            "  (8, 7)\t-0.049999999999999996\n",
            "  (8, 8)\t1.0\n",
            "  (8, 9)\t0.049999999999999996\n",
            "  (9, 8)\t-0.049999999999999996\n",
            "  (9, 9)\t1.0\n",
            "  (9, 10)\t0.049999999999999996\n",
            "  (10, 9)\t-0.049999999999999996\n",
            "  (10, 10)\t1.0\n",
            "  (10, 11)\t0.049999999999999996\n",
            "  (11, 10)\t-0.049999999999999996\n",
            "  (11, 11)\t1.0\n",
            "  (11, 12)\t0.049999999999999996\n",
            "  (12, 11)\t-0.049999999999999996\n",
            "  (12, 12)\t1.0\n",
            "  (12, 13)\t0.049999999999999996\n",
            "  (13, 12)\t-0.049999999999999996\n",
            "  (13, 13)\t1.0\n",
            "  (13, 14)\t0.049999999999999996\n",
            "  (14, 13)\t-0.049999999999999996\n",
            "  (14, 14)\t1.0\n",
            "  (14, 15)\t0.049999999999999996\n",
            "  (15, 14)\t-0.049999999999999996\n",
            "  (15, 15)\t1.0\n",
            "Matrix A (dense representation for clarity):\n",
            "[[ 1.    0.05  0.    0.    0.    0.    0.    0.    0.    0.    0.    0.\n",
            "   0.    0.    0.    0.  ]\n",
            " [-0.05  1.    0.05  0.    0.    0.    0.    0.    0.    0.    0.    0.\n",
            "   0.    0.    0.    0.  ]\n",
            " [ 0.   -0.05  1.    0.05  0.    0.    0.    0.    0.    0.    0.    0.\n",
            "   0.    0.    0.    0.  ]\n",
            " [ 0.    0.   -0.05  1.    0.05  0.    0.    0.    0.    0.    0.    0.\n",
            "   0.    0.    0.    0.  ]\n",
            " [ 0.    0.    0.   -0.05  1.    0.05  0.    0.    0.    0.    0.    0.\n",
            "   0.    0.    0.    0.  ]\n",
            " [ 0.    0.    0.    0.   -0.05  1.    0.05  0.    0.    0.    0.    0.\n",
            "   0.    0.    0.    0.  ]\n",
            " [ 0.    0.    0.    0.    0.   -0.05  1.    0.05  0.    0.    0.    0.\n",
            "   0.    0.    0.    0.  ]\n",
            " [ 0.    0.    0.    0.    0.    0.   -0.05  1.    0.05  0.    0.    0.\n",
            "   0.    0.    0.    0.  ]\n",
            " [ 0.    0.    0.    0.    0.    0.    0.   -0.05  1.    0.05  0.    0.\n",
            "   0.    0.    0.    0.  ]\n",
            " [ 0.    0.    0.    0.    0.    0.    0.    0.   -0.05  1.    0.05  0.\n",
            "   0.    0.    0.    0.  ]\n",
            " [ 0.    0.    0.    0.    0.    0.    0.    0.    0.   -0.05  1.    0.05\n",
            "   0.    0.    0.    0.  ]\n",
            " [ 0.    0.    0.    0.    0.    0.    0.    0.    0.    0.   -0.05  1.\n",
            "   0.05  0.    0.    0.  ]\n",
            " [ 0.    0.    0.    0.    0.    0.    0.    0.    0.    0.    0.   -0.05\n",
            "   1.    0.05  0.    0.  ]\n",
            " [ 0.    0.    0.    0.    0.    0.    0.    0.    0.    0.    0.    0.\n",
            "  -0.05  1.    0.05  0.  ]\n",
            " [ 0.    0.    0.    0.    0.    0.    0.    0.    0.    0.    0.    0.\n",
            "   0.   -0.05  1.    0.05]\n",
            " [ 0.    0.    0.    0.    0.    0.    0.    0.    0.    0.    0.    0.\n",
            "   0.    0.   -0.05  1.  ]]\n",
            "\n",
            "Vector at time n+1 (u_n_plus_1):\n",
            "[0.12459716 0.07723868 0.14900546 0.22581877 0.30153735 0.37541169\n",
            " 0.44697223 0.51577708 0.58140199 0.64344236 0.70151569 0.75526425\n",
            " 0.8043499  0.84860615 0.88503028 0.96813105]\n",
            "\n",
            "Verification (A @ u_n_plus_1):\n",
            "[0.1284591  0.0784591  0.15643447 0.23344536 0.30901699 0.38268343\n",
            " 0.4539905  0.52249856 0.58778525 0.64944805 0.70710678 0.76040597\n",
            " 0.80901699 0.85264016 0.89100652 0.92387953]\n",
            "Difference from u_n (should be close to zero):\n",
            "[ 0.00000000e+00  0.00000000e+00  2.77555756e-17  0.00000000e+00\n",
            " -5.55111512e-17  0.00000000e+00  0.00000000e+00 -1.11022302e-16\n",
            "  0.00000000e+00 -1.11022302e-16 -1.11022302e-16  0.00000000e+00\n",
            "  0.00000000e+00  0.00000000e+00  1.11022302e-16 -1.11022302e-16]\n",
            "\n"
          ]
        }
      ],
      "source": [
        "#import numpy as np\n",
        "from scipy.sparse import csr_matrix\n",
        "from scipy.sparse.linalg import spsolve\n",
        "\n",
        "# --- 1. The known vector at time n (u_n) ---\n",
        "# Let's assume a problem with 16 spatial points (e.g., 1D PDE)\n",
        "# So, u_n will be a vector of size 16\n",
        "print(f\"Vector at time n (u_n):\\n{U_n}\\n\")\n",
        "\n",
        "# --- 2. The sparse matrix A ---\n",
        "# We'll use the same previous matrix A: a tridiagonal matrix,\n",
        "# which arises from finite difference discretizations of 1D PDEs.\n",
        "# A tridiagonal matrix has non-zero elements only on the main diagonal\n",
        "# and the diagonals immediately above and below it.\n",
        "\n",
        "# Convert the matrix to CSR (Compressed Sparse Row) format for efficient solving\n",
        "# CSR is generally the best format for matrix-vector products and solving linear systems.\n",
        "# Corrected: Use csr_matrix from scipy.sparse\n",
        "A_csr = csr_matrix(A)\n",
        "\n",
        "print(f\"Sparse Matrix A (CSR format):\\n{A_csr}\")\n",
        "print(f\"Matrix A (dense representation for clarity):\\n{A_csr.toarray()}\\n\") # Display as dense for readability\n",
        "\n",
        "# --- 3. Solve the linear system A * u_{n+1} = u_n ---\n",
        "# The spsolve function takes the sparse matrix A and the right-hand side vector u_n\n",
        "# Ensure u_n is a standard numpy array for spsolve if it's a PennyLane array\n",
        "u_n_standard = np.array(U_n)\n",
        "u_n_plus_1 = spsolve(A_csr, u_n_standard)\n",
        "\n",
        "print(f\"Vector at time n+1 (u_n_plus_1):\\n{u_n_plus_1}\\n\")\n",
        "\n",
        "# --- 4. (Optional) Verify the solution ---\n",
        "# Multiply A_csr by the calculated u_n_plus_1 to see if it equals u_n\n",
        "verification_result = A_csr @ u_n_plus_1\n",
        "print(f\"Verification (A @ u_n_plus_1):\\n{verification_result}\")\n",
        "print(f\"Difference from u_n (should be close to zero):\\n{verification_result - u_n_standard}\\n\")"
      ]
    },
    {
      "cell_type": "markdown",
      "source": [
        "A very important thing to notice, is that by printing the values of the classical and quantum vectors we see that they differ somehow a lot, but in fact the classical vector is not normalized. After normalizing it, the 2 vectors are approximately equal.\n",
        "\n",
        "This is good as the solution we have used is a very basic QVLS, other solvers and algorithms exist that can provide even better more accurate results."
      ],
      "metadata": {
        "id": "BILE9ofSeRlQ"
      }
    },
    {
      "cell_type": "code",
      "source": [
        "print(f\"Vector at time n+1 (u_n_plus_1) classical solver:\\n{u_n_plus_1}\\n\")"
      ],
      "metadata": {
        "colab": {
          "base_uri": "https://localhost:8080/"
        },
        "id": "AogXbvqYc0ke",
        "outputId": "51b05168-1c36-4d17-eb61-b3b44214a517"
      },
      "execution_count": 9,
      "outputs": [
        {
          "output_type": "stream",
          "name": "stdout",
          "text": [
            "Vector at time n+1 (u_n_plus_1) classical solver:\n",
            "[0.12459716 0.07723868 0.14900546 0.22581877 0.30153735 0.37541169\n",
            " 0.44697223 0.51577708 0.58140199 0.64344236 0.70151569 0.75526425\n",
            " 0.8043499  0.84860615 0.88503028 0.96813105]\n",
            "\n"
          ]
        }
      ]
    },
    {
      "cell_type": "code",
      "source": [
        "print(f\"Vector at time n+1 (u_n_plus_1) quantum solver:\\n{np.real(ansatz(weights))}\\n\")"
      ],
      "metadata": {
        "colab": {
          "base_uri": "https://localhost:8080/"
        },
        "id": "8wmSyFdZc3O9",
        "outputId": "7d9a392a-8024-48bb-d3d3-b57471ccbd63"
      },
      "execution_count": 10,
      "outputs": [
        {
          "output_type": "stream",
          "name": "stdout",
          "text": [
            "Vector at time n+1 (u_n_plus_1) quantum solver:\n",
            "[0.05091235 0.03271712 0.06092223 0.09345595 0.12793534 0.15700093\n",
            " 0.18748669 0.21579693 0.24234026 0.27067199 0.29446238 0.31493634\n",
            " 0.33684053 0.35743659 0.3724471  0.40413373]\n",
            "\n"
          ]
        }
      ]
    },
    {
      "cell_type": "code",
      "source": [
        "print(f\"Vector at time n+1 (u_n_plus_1) classical solver ---Normalized---:\\n{u_n_plus_1/np.linalg.norm(u_n_plus_1)}\\n\")"
      ],
      "metadata": {
        "colab": {
          "base_uri": "https://localhost:8080/"
        },
        "id": "oc5SRY30dk7b",
        "outputId": "94892b45-2679-4e01-d08f-5b1dba191c5b"
      },
      "execution_count": 11,
      "outputs": [
        {
          "output_type": "stream",
          "name": "stdout",
          "text": [
            "Vector at time n+1 (u_n_plus_1) classical solver ---Normalized---:\n",
            "[0.05221266 0.03236701 0.062441   0.09462976 0.12635977 0.15731694\n",
            " 0.18730451 0.21613731 0.24363754 0.26963567 0.2939714  0.31649484\n",
            " 0.33706426 0.35560992 0.37087352 0.40569705]\n",
            "\n"
          ]
        }
      ]
    },
    {
      "cell_type": "markdown",
      "source": [
        "### Hybrid Solver:\n",
        "In fact, when errors occur, quantum computers might give less accurate results. A company might do a balance between speed and accuracy in the near term until quantum computers become good at handling/facing errors.\n",
        "\n",
        "What if we ran the quantum algorithm for $\\frac{Δt}{2}$ and $\\frac{Δx}{2}$ and then the classical algorithm for the same time instead of running the quantum algorithm for the whole time? Might we get more accurate results, by giving on some speed gained from the quantum algorithm?"
      ],
      "metadata": {
        "id": "AwC3WtOufHg4"
      }
    },
    {
      "cell_type": "markdown",
      "source": [
        "To compare both quantum and classical algorithms we tested in the previous section where very fast and approximately same speed, but for some large problems, several quantum algorithms are better at scaling and reaching the solution faster but we do not have in our hands now the required access to such HPC and quantum devices to test such big problems."
      ],
      "metadata": {
        "id": "eFpIX4a1gn9y"
      }
    },
    {
      "cell_type": "markdown",
      "source": [
        "We will start now with the classical solution for half of the time then the quantum for the next half."
      ],
      "metadata": {
        "id": "1Xk6-bgrhXMV"
      }
    },
    {
      "cell_type": "code",
      "source": [
        "n = 16\n",
        "c = 1\n",
        "delta_t = 0.01/2  #we divide by 2\n",
        "delta_x = 0.1/2   #we divide by 2\n",
        "C = c*delta_t/delta_x\n",
        "A = np.zeros((n, n))\n",
        "\n",
        "np.fill_diagonal(A, 1.0)\n",
        "\n",
        "i = 0\n",
        "# A[i, i+1] = C/2\n",
        "for i in range(n - 1):\n",
        "  A[i, i + 1] = C / 2.0\n",
        "\n",
        "i = 1\n",
        "# A[i, i-1] = -C/2\n",
        "for i in range(1, n):\n",
        "  A[i, i - 1] = -C / 2.0"
      ],
      "metadata": {
        "id": "AMyAhL05fGx5"
      },
      "execution_count": 12,
      "outputs": []
    },
    {
      "cell_type": "code",
      "source": [
        "#Implementing the U_n vector\n",
        "U_n = np.zeros(n) # Initialize as a 1D array\n",
        "U_left = 1\n",
        "U_right = 0\n",
        "L = 4\n",
        "\n",
        "U_n[0] = np.sin(np.pi * delta_x / L) + (C / 2) * U_left\n",
        "for i in range(1, n-1):\n",
        "    U_n[i] = np.sin(np.pi * i * delta_x / L)\n",
        "U_n[n-1] = np.sin(np.pi * (n-1) * delta_x / L) - (C / 2) * U_right"
      ],
      "metadata": {
        "id": "IVLhiliLiTWD"
      },
      "execution_count": 13,
      "outputs": []
    },
    {
      "cell_type": "code",
      "execution_count": 14,
      "metadata": {
        "colab": {
          "base_uri": "https://localhost:8080/"
        },
        "outputId": "deaf33b6-1d1b-4ce8-c733-c407ab017d82",
        "id": "giAwXjJujL6u"
      },
      "outputs": [
        {
          "output_type": "stream",
          "name": "stdout",
          "text": [
            "Vector at time n (u_n):\n",
            "[0.08925982 0.03925982 0.0784591  0.1175374  0.15643447 0.19509032\n",
            " 0.23344536 0.27144045 0.30901699 0.34611706 0.38268343 0.41865974\n",
            " 0.4539905  0.48862124 0.52249856 0.55557023]\n",
            "\n",
            "Sparse Matrix A (CSR format):\n",
            "<Compressed Sparse Row sparse matrix of dtype 'float64'\n",
            "\twith 46 stored elements and shape (16, 16)>\n",
            "  Coords\tValues\n",
            "  (0, 0)\t1.0\n",
            "  (0, 1)\t0.049999999999999996\n",
            "  (1, 0)\t-0.049999999999999996\n",
            "  (1, 1)\t1.0\n",
            "  (1, 2)\t0.049999999999999996\n",
            "  (2, 1)\t-0.049999999999999996\n",
            "  (2, 2)\t1.0\n",
            "  (2, 3)\t0.049999999999999996\n",
            "  (3, 2)\t-0.049999999999999996\n",
            "  (3, 3)\t1.0\n",
            "  (3, 4)\t0.049999999999999996\n",
            "  (4, 3)\t-0.049999999999999996\n",
            "  (4, 4)\t1.0\n",
            "  (4, 5)\t0.049999999999999996\n",
            "  (5, 4)\t-0.049999999999999996\n",
            "  (5, 5)\t1.0\n",
            "  (5, 6)\t0.049999999999999996\n",
            "  (6, 5)\t-0.049999999999999996\n",
            "  (6, 6)\t1.0\n",
            "  (6, 7)\t0.049999999999999996\n",
            "  (7, 6)\t-0.049999999999999996\n",
            "  (7, 7)\t1.0\n",
            "  (7, 8)\t0.049999999999999996\n",
            "  (8, 7)\t-0.049999999999999996\n",
            "  (8, 8)\t1.0\n",
            "  (8, 9)\t0.049999999999999996\n",
            "  (9, 8)\t-0.049999999999999996\n",
            "  (9, 9)\t1.0\n",
            "  (9, 10)\t0.049999999999999996\n",
            "  (10, 9)\t-0.049999999999999996\n",
            "  (10, 10)\t1.0\n",
            "  (10, 11)\t0.049999999999999996\n",
            "  (11, 10)\t-0.049999999999999996\n",
            "  (11, 11)\t1.0\n",
            "  (11, 12)\t0.049999999999999996\n",
            "  (12, 11)\t-0.049999999999999996\n",
            "  (12, 12)\t1.0\n",
            "  (12, 13)\t0.049999999999999996\n",
            "  (13, 12)\t-0.049999999999999996\n",
            "  (13, 13)\t1.0\n",
            "  (13, 14)\t0.049999999999999996\n",
            "  (14, 13)\t-0.049999999999999996\n",
            "  (14, 14)\t1.0\n",
            "  (14, 15)\t0.049999999999999996\n",
            "  (15, 14)\t-0.049999999999999996\n",
            "  (15, 15)\t1.0\n",
            "Matrix A (dense representation for clarity):\n",
            "[[ 1.    0.05  0.    0.    0.    0.    0.    0.    0.    0.    0.    0.\n",
            "   0.    0.    0.    0.  ]\n",
            " [-0.05  1.    0.05  0.    0.    0.    0.    0.    0.    0.    0.    0.\n",
            "   0.    0.    0.    0.  ]\n",
            " [ 0.   -0.05  1.    0.05  0.    0.    0.    0.    0.    0.    0.    0.\n",
            "   0.    0.    0.    0.  ]\n",
            " [ 0.    0.   -0.05  1.    0.05  0.    0.    0.    0.    0.    0.    0.\n",
            "   0.    0.    0.    0.  ]\n",
            " [ 0.    0.    0.   -0.05  1.    0.05  0.    0.    0.    0.    0.    0.\n",
            "   0.    0.    0.    0.  ]\n",
            " [ 0.    0.    0.    0.   -0.05  1.    0.05  0.    0.    0.    0.    0.\n",
            "   0.    0.    0.    0.  ]\n",
            " [ 0.    0.    0.    0.    0.   -0.05  1.    0.05  0.    0.    0.    0.\n",
            "   0.    0.    0.    0.  ]\n",
            " [ 0.    0.    0.    0.    0.    0.   -0.05  1.    0.05  0.    0.    0.\n",
            "   0.    0.    0.    0.  ]\n",
            " [ 0.    0.    0.    0.    0.    0.    0.   -0.05  1.    0.05  0.    0.\n",
            "   0.    0.    0.    0.  ]\n",
            " [ 0.    0.    0.    0.    0.    0.    0.    0.   -0.05  1.    0.05  0.\n",
            "   0.    0.    0.    0.  ]\n",
            " [ 0.    0.    0.    0.    0.    0.    0.    0.    0.   -0.05  1.    0.05\n",
            "   0.    0.    0.    0.  ]\n",
            " [ 0.    0.    0.    0.    0.    0.    0.    0.    0.    0.   -0.05  1.\n",
            "   0.05  0.    0.    0.  ]\n",
            " [ 0.    0.    0.    0.    0.    0.    0.    0.    0.    0.    0.   -0.05\n",
            "   1.    0.05  0.    0.  ]\n",
            " [ 0.    0.    0.    0.    0.    0.    0.    0.    0.    0.    0.    0.\n",
            "  -0.05  1.    0.05  0.  ]\n",
            " [ 0.    0.    0.    0.    0.    0.    0.    0.    0.    0.    0.    0.\n",
            "   0.   -0.05  1.    0.05]\n",
            " [ 0.    0.    0.    0.    0.    0.    0.    0.    0.    0.    0.    0.\n",
            "   0.    0.   -0.05  1.  ]]\n",
            "\n",
            "Vector at time n+1 (u_n_plus_1):\n",
            "[0.08726559 0.03988455 0.07477091 0.11364819 0.15255503 0.19123686\n",
            " 0.22962432 0.26765774 0.30527846 0.34242846 0.37905045 0.41508817\n",
            " 0.45048186 0.48526089 0.51768888 0.58145468]\n",
            "\n",
            "Verification (A @ u_n_plus_1):\n",
            "[0.08925982 0.03925982 0.0784591  0.1175374  0.15643447 0.19509032\n",
            " 0.23344536 0.27144045 0.30901699 0.34611706 0.38268343 0.41865974\n",
            " 0.4539905  0.48862124 0.52249856 0.55557023]\n",
            "Difference from u_n (should be close to zero):\n",
            "[ 0.00000000e+00  6.93889390e-18  0.00000000e+00  0.00000000e+00\n",
            "  0.00000000e+00 -2.77555756e-17 -2.77555756e-17  0.00000000e+00\n",
            "  0.00000000e+00  5.55111512e-17  0.00000000e+00  0.00000000e+00\n",
            "  0.00000000e+00  0.00000000e+00  0.00000000e+00  0.00000000e+00]\n",
            "\n"
          ]
        }
      ],
      "source": [
        "from scipy.sparse import csr_matrix\n",
        "from scipy.sparse.linalg import spsolve\n",
        "\n",
        "# --- 1. The known vector at time n (u_n) ---\n",
        "# Let's assume a problem with 16 spatial points (e.g., 1D PDE)\n",
        "# So, u_n will be a vector of size 16\n",
        "print(f\"Vector at time n (u_n):\\n{U_n}\\n\")\n",
        "\n",
        "# --- 2. The sparse matrix A ---\n",
        "# We'll use the same previous matrix A: a tridiagonal matrix,\n",
        "# which arises from finite difference discretizations of 1D PDEs.\n",
        "# A tridiagonal matrix has non-zero elements only on the main diagonal\n",
        "# and the diagonals immediately above and below it.\n",
        "\n",
        "# Convert the matrix to CSR (Compressed Sparse Row) format for efficient solving\n",
        "# CSR is generally the best format for matrix-vector products and solving linear systems.\n",
        "# Corrected: Use csr_matrix from scipy.sparse\n",
        "A_csr = csr_matrix(A)\n",
        "\n",
        "print(f\"Sparse Matrix A (CSR format):\\n{A_csr}\")\n",
        "print(f\"Matrix A (dense representation for clarity):\\n{A_csr.toarray()}\\n\") # Display as dense for readability\n",
        "\n",
        "# --- 3. Solve the linear system A * u_{n+1} = u_n ---\n",
        "# The spsolve function takes the sparse matrix A and the right-hand side vector u_n\n",
        "# Ensure u_n is a standard numpy array for spsolve if it's a PennyLane array\n",
        "u_n_standard = np.array(U_n)\n",
        "u_n_plus_1 = spsolve(A_csr, u_n_standard)\n",
        "\n",
        "print(f\"Vector at time n+1 (u_n_plus_1):\\n{u_n_plus_1}\\n\")\n",
        "\n",
        "# --- 4. (Optional) Verify the solution ---\n",
        "# Multiply A_csr by the calculated u_n_plus_1 to see if it equals u_n\n",
        "verification_result = A_csr @ u_n_plus_1\n",
        "print(f\"Verification (A @ u_n_plus_1):\\n{verification_result}\")\n",
        "print(f\"Difference from u_n (should be close to zero):\\n{verification_result - u_n_standard}\\n\")"
      ]
    },
    {
      "cell_type": "markdown",
      "source": [
        "Now the quantum solution."
      ],
      "metadata": {
        "id": "hYwxeui3jTce"
      }
    },
    {
      "cell_type": "code",
      "source": [
        "U_n = qml.numpy.array(u_n_plus_1, dtype=float)"
      ],
      "metadata": {
        "id": "5O_c-D0sjbrc"
      },
      "execution_count": 15,
      "outputs": []
    },
    {
      "cell_type": "code",
      "execution_count": null,
      "metadata": {
        "id": "jn5IufBuidvP"
      },
      "outputs": [],
      "source": [
        "cost_history = []\n",
        "\n",
        "dev = qml.device(\"default.qubit\", wires=4)\n",
        "\n",
        "@qml.qnode(dev)\n",
        "def ansatz(weights):\n",
        "  qml.StronglyEntanglingLayers(weights, wires = range(4))\n",
        "  return qml.state()\n",
        "\n",
        "def cost(weights, u, mtrx):\n",
        "  predictions = ansatz(weights)\n",
        "\n",
        "  dot_product_result = mtrx @ np.asarray(predictions)\n",
        "\n",
        "  difference = dot_product_result - u\n",
        "\n",
        "  # Calculate the squared norm using sum of squared differences\n",
        "  to_return = qml.numpy.linalg.norm(difference)**2\n",
        "  return to_return\n",
        "\n",
        "optimizer = qml.AdamOptimizer(stepsize=0.1)\n",
        "epochs = int(250/2) #we divide by 2\n",
        "\n",
        "weights_shape = qml.StronglyEntanglingLayers.shape(n_layers=10, n_wires=4)\n",
        "initial_weights = np.random.rand(*weights_shape)\n",
        "\n",
        "print(f\"Shape of initial_weights: {initial_weights.shape}, Dtype: {initial_weights.dtype}\")\n",
        "weights = qml.numpy.array(initial_weights, requires_grad=True)\n",
        "\n",
        "\n",
        "# Convert U_n and A to qml.numpy arrays before the optimization loop\n",
        "A = qml.numpy.array(A, dtype=float)\n",
        "\n",
        "for epoch in range(epochs):\n",
        "    weights, current_cost = optimizer.step_and_cost(cost, weights, U_n, A)\n",
        "    weights = weights[0]\n",
        "    cost_history.append(current_cost)\n",
        "    print(f\"Epoch {epoch + 1}/{epochs}, Cost: {current_cost:.4f}\")"
      ]
    },
    {
      "cell_type": "code",
      "execution_count": 17,
      "metadata": {
        "colab": {
          "base_uri": "https://localhost:8080/",
          "height": 449
        },
        "outputId": "414fbf02-d07e-4482-bdc6-23ee31deba76",
        "id": "6VjEYp2xlYjU"
      },
      "outputs": [
        {
          "output_type": "display_data",
          "data": {
            "text/plain": [
              "<Figure size 640x480 with 1 Axes>"
            ],
            "image/png": "[encoded data removed]"
          },
          "metadata": {}
        }
      ],
      "source": [
        "cost_values = [float(c) for c in cost_history]\n",
        "plt.plot(cost_values, \"g\")\n",
        "plt.ylabel(\"Cost function\")\n",
        "plt.xlabel(\"Optimization steps\")\n",
        "plt.show()"
      ]
    },
    {
      "cell_type": "code",
      "source": [
        "print(f\"Vector at time n+1 (u_n_plus_1) quantum solver:\\n{np.real(ansatz(weights))}\\n\")"
      ],
      "metadata": {
        "colab": {
          "base_uri": "https://localhost:8080/"
        },
        "outputId": "f6e944f9-5edd-470a-a87f-ed232304d17c",
        "id": "HbUPmW5IlOv3"
      },
      "execution_count": 18,
      "outputs": [
        {
          "output_type": "stream",
          "name": "stdout",
          "text": [
            "Vector at time n+1 (u_n_plus_1) quantum solver:\n",
            "[0.04244409 0.02013088 0.03555608 0.05476455 0.07415541 0.09350948\n",
            " 0.11272795 0.1314883  0.14983468 0.1687512  0.18698014 0.20486357\n",
            " 0.22249985 0.23994986 0.25488933 0.3025244 ]\n",
            "\n"
          ]
        }
      ]
    },
    {
      "cell_type": "markdown",
      "source": [
        "Extraordinary results, By doing the first half using the classical solver and then the second half using the quantum solver we were able to reach a less loss than using the quantum solver alone. This gave more accuracy but of course some speed was lost by the classical parts when we go to higher and more complex problems in which quantum is faster and scales better."
      ],
      "metadata": {
        "id": "iKnYFWnqleYU"
      }
    },
    {
      "cell_type": "markdown",
      "source": [
        "To make things even fair, we have ran the quantum solver for half of the iterations = 125 and not 250 as for the full solution previously."
      ],
      "metadata": {
        "id": "8qQFUhGVl89v"
      }
    },
    {
      "cell_type": "markdown",
      "source": [
        "### Innovation Bonus: VQE Variant\n",
        "To solve the pde using VQE, we need to find the ground state energy of this hamiltonian $H = A†(I - |b⟩⟨b|)A$.\n",
        "\n",
        "The solution is encoded in the eigenvalue of $H$ with a value of zero.\n",
        "$H|x\\rangle = A†(I - |b⟩⟨b|)A|x\\rangle = A†(I - |b⟩⟨b|)|b\\rangle = A†(|b⟩ - |b⟩) = 0$\n"
      ],
      "metadata": {
        "id": "YsIuL0HHpbS2"
      }
    },
    {
      "cell_type": "code",
      "source": [
        "# The identity matrix I should have the same dimension as A\n",
        "I = np.identity(n) # Use n (which is 16) for the dimension\n",
        "# Note: U_n should ideally be normalized to represent a quantum state |b⟩\n",
        "# For the VQE approach with H = A†(I - |b⟩⟨b|)A, |b⟩ is the normalized vector U_n\n",
        "\n",
        "# Calculate the outer product |b⟩⟨b| which is U_n * U_n.conj().T\n",
        "# For 1D arrays in numpy/pennylane, the outer product can be calculated this way:\n",
        "U_n_outer_product = np.outer(U_n, U_n.conj())\n",
        "\n",
        "# Construct the Hamiltonian H\n",
        "# Ensure matrix multiplication is used correctly with PennyLane numpy\n",
        "H = A.conj().T @ (I - U_n_outer_product) @ A\n",
        "\n",
        "print(\"Shape of H:\", H.shape)\n",
        "print(\"Hamiltonian H (first 5x5):\\n\", H[:16,:16])"
      ],
      "metadata": {
        "colab": {
          "base_uri": "https://localhost:8080/"
        },
        "id": "W-_xRtAxlG2h",
        "outputId": "82f20ad3-2ffd-4a98-c504-752b67203ed5"
      },
      "execution_count": 19,
      "outputs": [
        {
          "output_type": "stream",
          "name": "stdout",
          "text": [
            "Shape of H: (16, 16)\n",
            "Hamiltonian H (first 5x5):\n",
            " [[ 0.9952288  -0.00345428 -0.00856132 -0.0093593  -0.01267777 -0.01597844\n",
            "  -0.01925455 -0.02250098 -0.02571272 -0.02888481 -0.03201236 -0.03509058\n",
            "  -0.03811402 -0.04109231 -0.04373391 -0.05178863]\n",
            " [-0.00345428  1.003359   -0.00287951 -0.00694626 -0.00602274 -0.00759077\n",
            "  -0.00914713 -0.01068939 -0.01221517 -0.01372211 -0.01520789 -0.01667024\n",
            "  -0.01810657 -0.01952145 -0.02077637 -0.02460287]\n",
            " [-0.00856132 -0.00287951  0.99994725 -0.00780197 -0.01306827 -0.01331972\n",
            "  -0.01605071 -0.01875696 -0.02143428 -0.02407855 -0.0266857  -0.02925172\n",
            "  -0.03177208 -0.03425481 -0.03645685 -0.04317132]\n",
            " [-0.0093593  -0.00694626 -0.00780197  0.99295297 -0.01631848 -0.02306701\n",
            "  -0.02478394 -0.02896266 -0.03309672 -0.03717974 -0.04120544 -0.04516764\n",
            "  -0.04905933 -0.05289291 -0.0562931  -0.06666093]\n",
            " [-0.01267777 -0.00602274 -0.01306827 -0.01631848  0.98289557 -0.02785934\n",
            "  -0.03607144 -0.03923178 -0.04483163 -0.05036235 -0.05581542 -0.06118248\n",
            "  -0.06645401 -0.07164685 -0.07625262 -0.09029651]\n",
            " [-0.01597844 -0.00759077 -0.01331972 -0.02306701 -0.02785934  0.96988746\n",
            "  -0.04231178 -0.0519458  -0.05650357 -0.06347422 -0.070347   -0.07711138\n",
            "  -0.08375536 -0.09030016 -0.09610504 -0.11380527]\n",
            " [-0.01925455 -0.00914713 -0.01605071 -0.02478394 -0.03607144 -0.04231178\n",
            "   0.95401288 -0.05958385 -0.0705887  -0.07648857 -0.08477049 -0.0929218\n",
            "  -0.10092802 -0.10881472 -0.1158098  -0.13713916]\n",
            " [-0.02250098 -0.01068939 -0.01875696 -0.02896266 -0.03923178 -0.0519458\n",
            "  -0.05958385  0.93536997 -0.07956886 -0.09188499 -0.0990633  -0.10858896\n",
            "  -0.11794508 -0.12716152 -0.13533601 -0.16026163]\n",
            " [-0.02571272 -0.01221517 -0.02143428 -0.03309672 -0.04483163 -0.05650357\n",
            "  -0.0705887  -0.07956886  0.91407367 -0.10214359 -0.11570335 -0.12408868\n",
            "  -0.13478027 -0.14531225 -0.15465355 -0.18313699]\n",
            " [-0.02888481 -0.01372211 -0.02407855 -0.03717974 -0.05036235 -0.06347422\n",
            "  -0.07648857 -0.09188499 -0.10214359  0.89025531 -0.12716886 -0.14189707\n",
            "  -0.15140765 -0.16323892 -0.17373262 -0.20572997]\n",
            " [-0.03201236 -0.01520789 -0.0266857  -0.04120544 -0.05581542 -0.070347\n",
            "  -0.08477049 -0.0990633  -0.11570335 -0.12716886  0.86406173 -0.15449052\n",
            "  -0.17030155 -0.18091388 -0.1925438  -0.22800571]\n",
            " [-0.03509058 -0.01667024 -0.02925172 -0.04516764 -0.06118248 -0.07711138\n",
            "  -0.0929218  -0.10858896 -0.12408868 -0.14189707 -0.15449052  0.83565409\n",
            "  -0.1839369  -0.20081007 -0.2110583  -0.24993013]\n",
            " [-0.03811402 -0.01810657 -0.03177208 -0.04905933 -0.06645401 -0.08375536\n",
            "  -0.10092802 -0.11794508 -0.13478027 -0.15140765 -0.17030155 -0.1839369\n",
            "   0.80521493 -0.21539664 -0.23174327 -0.27146433]\n",
            " [-0.04109231 -0.01952145 -0.03425481 -0.05289291 -0.07164685 -0.09030016\n",
            "  -0.10881472 -0.12716152 -0.14531225 -0.16323892 -0.18091388 -0.20081007\n",
            "  -0.21539664  0.77277187 -0.24715676 -0.29517705]\n",
            " [-0.04373391 -0.02077637 -0.03645685 -0.0562931  -0.07625262 -0.09610504\n",
            "  -0.1158098  -0.13533601 -0.15465355 -0.17373262 -0.1925438  -0.2110583\n",
            "  -0.23174327 -0.24715676  0.74195494 -0.31149159]\n",
            " [-0.05178863 -0.02460287 -0.04317132 -0.06666093 -0.09029651 -0.11380527\n",
            "  -0.13713916 -0.16026163 -0.18313699 -0.20572997 -0.22800571 -0.24993013\n",
            "  -0.27146433 -0.29517705 -0.31149159  0.63363919]]\n"
          ]
        }
      ]
    },
    {
      "cell_type": "code",
      "source": [
        "dev_vqe = qml.device(\"default.qubit\", wires=4)\n",
        "@qml.qnode(dev_vqe)\n",
        "# Modify circuit to accept weights as a parameter\n",
        "def circuit2(weights):\n",
        "    qml.StronglyEntanglingLayers(weights, wires = range(4))\n",
        "    return qml.expval(qml.Hermitian(H, wires=[0,1,2,3]))"
      ],
      "metadata": {
        "id": "j-OgZPArso9K"
      },
      "execution_count": 20,
      "outputs": []
    },
    {
      "cell_type": "code",
      "source": [
        "weights_shape = qml.StronglyEntanglingLayers.shape(n_layers=10, n_wires=4)\n",
        "initial_weights = np.random.rand(*weights_shape)\n",
        "weights = qml.numpy.array(initial_weights, requires_grad=True)"
      ],
      "metadata": {
        "id": "hC1InyPntShj"
      },
      "execution_count": 21,
      "outputs": []
    },
    {
      "cell_type": "code",
      "source": [
        "# Modify cost_fn to pass the received parameter (weights) to the circuit\n",
        "def cost_fn(weights):\n",
        "    x = circuit2(weights)\n",
        "    return x"
      ],
      "metadata": {
        "id": "FLsn-1NPtUPX"
      },
      "execution_count": 22,
      "outputs": []
    },
    {
      "cell_type": "code",
      "source": [
        "optimizer = qml.AdamOptimizer(stepsize=0.1)"
      ],
      "metadata": {
        "id": "493mtgOutYdg"
      },
      "execution_count": 23,
      "outputs": []
    },
    {
      "cell_type": "code",
      "source": [
        "epochs = 100\n",
        "cost_history = []\n",
        "for epoch in range(epochs):\n",
        "    weights, current_cost = optimizer.step_and_cost(cost_fn, weights)\n",
        "    cost_history.append(current_cost)\n",
        "    print(f\"Epoch {epoch + 1}/{epochs}, Cost: {current_cost:.4f}\")"
      ],
      "metadata": {
        "id": "TYLgIj0rtpHw"
      },
      "execution_count": null,
      "outputs": []
    },
    {
      "cell_type": "code",
      "source": [
        "cost_values = [float(c) for c in cost_history]\n",
        "plt.plot(cost_values, \"g\")\n",
        "plt.ylabel(\"Cost function\")\n",
        "plt.xlabel(\"Optimization steps\")\n",
        "plt.show()"
      ],
      "metadata": {
        "colab": {
          "base_uri": "https://localhost:8080/",
          "height": 449
        },
        "id": "kjf9s5ZzwNNN",
        "outputId": "bccd359b-712d-4771-95ac-1cd7070b9704"
      },
      "execution_count": 25,
      "outputs": [
        {
          "output_type": "display_data",
          "data": {
            "text/plain": [
              "<Figure size 640x480 with 1 Axes>"
            ],
            "image/png": "[encoded data removed]"
          },
          "metadata": {}
        }
      ]
    },
    {
      "cell_type": "markdown",
      "source": [
        "Now we print the vector we got after VQE and that from the previous classical solver, we see the values in both vectors are near. So our solution worked.\n",
        "\n",
        "It is worth mentioning that the VQE has the problem of phase as we cannot always know what the phase is, because of that we see the values as a minus sign. But since c in the pde equals 1 a positive value, so x_values should go forward and not backward so we should multiply the results by -1."
      ],
      "metadata": {
        "id": "Px9A_bG0xOlU"
      }
    },
    {
      "cell_type": "code",
      "source": [
        "@qml.qnode(dev_vqe)\n",
        "def circuit_fn_state(params):\n",
        "    qml.StronglyEntanglingLayers(weights, wires = range(4))\n",
        "    return qml.state()\n",
        "np.real(circuit_fn_state(weights))"
      ],
      "metadata": {
        "colab": {
          "base_uri": "https://localhost:8080/"
        },
        "id": "6OQuc9duwUp_",
        "outputId": "b1f604b3-00f0-46d2-9042-18269b8476a9"
      },
      "execution_count": 26,
      "outputs": [
        {
          "output_type": "execute_result",
          "data": {
            "text/plain": [
              "tensor([-0.05595254, -0.02689388, -0.04706056, -0.07169764, -0.09696248,\n",
              "        -0.12271294, -0.14713954, -0.17234516, -0.1966561 , -0.22067666,\n",
              "        -0.24419738, -0.26934797, -0.29129247, -0.31495753, -0.33522538,\n",
              "        -0.39581463], requires_grad=True)"
            ]
          },
          "metadata": {},
          "execution_count": 26
        }
      ]
    },
    {
      "cell_type": "code",
      "source": [
        "print(f\"Vector at time n+1 (u_n_plus_1) classical solver ---Normalized---:\\n{u_n_plus_1/np.linalg.norm(u_n_plus_1)}\\n\")"
      ],
      "metadata": {
        "colab": {
          "base_uri": "https://localhost:8080/"
        },
        "outputId": "d673ac2a-a9bd-4f07-9216-471397bae604",
        "id": "sxgL-l2fxE2G"
      },
      "execution_count": 27,
      "outputs": [
        {
          "output_type": "stream",
          "name": "stdout",
          "text": [
            "Vector at time n+1 (u_n_plus_1) classical solver ---Normalized---:\n",
            "[0.06535587 0.02987076 0.05599823 0.08511461 0.11425314 0.14322314\n",
            " 0.17197269 0.20045708 0.22863239 0.25645516 0.28388249 0.31087225\n",
            " 0.33737967 0.36342675 0.38771306 0.43546922]\n",
            "\n"
          ]
        }
      ]
    },
    {
      "cell_type": "markdown",
      "source": [
        "### Conclusion:\n",
        "We were successfully able to first discretize the pde then solve it using quanutm, classical and hybrid approaches reaching near values in the final vector solutions. Also, we added the VQE algorithm as an extra step for bonus."
      ],
      "metadata": {
        "id": "xuJ6KFZRxav8"
      }
    },
    {
      "cell_type": "markdown",
      "source": [
        "### References:\n",
        "\n",
        "1. A brief overview of vqe - pennylane: https://pennylane.ai/qml/demos/tutorial_vqe\n",
        "\n",
        "2. Poisson 1D solution using VQE: https://github.com/comp-physics/qce23-qpde-tutorial/blob/master/Session2%20Notebook/1DPoisson%2BVQE.ipynb\n",
        "\n",
        "3. Variational quantum linear solver pennylane tutorials: https://pennylane.ai/qml/demos/tutorial_vqls\n",
        "\n",
        "4. Other AI tools like gemini and chatgpt and online search results was of great help in addition to some youtube videos and the pennylane functions source code and usage was very extremely helpfull and important."
      ],
      "metadata": {
        "id": "zI0WN8AQx46C"
      }
    }
  ],
  "metadata": {
    "colab": {
      "provenance": []
    },
    "kernelspec": {
      "display_name": "Python 3",
      "name": "python3"
    },
    "language_info": {
      "name": "python"
    }
  },
  "nbformat": 4,
  "nbformat_minor": 0
}